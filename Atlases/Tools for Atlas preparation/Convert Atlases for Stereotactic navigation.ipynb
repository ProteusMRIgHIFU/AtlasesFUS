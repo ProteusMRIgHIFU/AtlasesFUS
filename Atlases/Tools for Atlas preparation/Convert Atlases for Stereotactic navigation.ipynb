{
 "cells": [
  {
   "cell_type": "markdown",
   "metadata": {
    "deletable": true,
    "editable": true
   },
   "source": [
    " Adjust atlases for stereotactic navigation for Focused Ultrasound experimentation\n",
    " ======\n",
    " \n",
    " This notebook adjust the public domain Nifti 3D mouse and rat atlases to be conformal for stereotactic navigation.\n",
    " \n",
    " Source data was downloaded from the **Scalable Brain Atlas**:\n",
    " \n",
    " https://scalablebrainatlas.incf.org\n",
    " \n",
    " \n",
    " Each atlas was manually inspected to recenter the 0 at Bregma. The size in mm is important to calibrate the area of the SVG scalable templates.\n",
    " \n",
    " # Citation\n",
    " \n",
    " When using these atlases in your research, plase be sure of citing the following references\n",
    " \n",
    "## P56 Allen mouse atlas\n",
    " * Lein ES, Hawrylycz MJ, Ao N, et al. (2007) \"Genome-wide atlas of gene expression in the adult mouse brain.\" Nature 445(7124):168-76. [doi 10.1038/nature05453]\n",
    " \n",
    " * Rembrandt Bakker, Paul Tiesinga, Rolf Kötter (2015) \n",
    " \"The Scalable Brain Atlas: instant web-based access to public brain atlases and related content.\" \n",
    "Neuroinformatics. http://link.springer.com/content/pdf/10.1007/s12021-014-9258-x (author copy: arXiv:1312.6310)\n",
    " \n",
    " \n",
    "## Walxhom rat atlas\n",
    "* Papp EA, Leergaard TB, Calabrese E, Johnson GA, Bjaalie JG (2014) \"Waxholm Space atlas of the Sprague Dawley rat brain\" NeuroImage 97:374-386. [doi 10.1016/j.neuroimage.2014.04.001]\n",
    "\n",
    "* Kjonigsen LJ, Lillehaug S, Bjaalie JG, Witter MP, Leergaard TB (2015) \"Waxholm Space atlas of the rat brain hippocampal region: Three-dimensional delineations based on magnetic resonance and diffusion tensor imaging.\" NeuroImage 108:441–449. [doi 10.1016/j.neuroimage.2014.12.080]\n",
    "\n",
    "* Sergejeva M, Papp EA, Bakker R, Gaudnek MA, Okamura-Oho Y, Boline J, Bjaalie JG, Hess A (2015) \"Anatomical landmarks for registration of experimental image data to volumetric rodent brain atlasing templates.\" Journal of Neuroscience Methods 240:161-169. [doi 10.1016/j.jneumeth.2014.11.005]\n",
    " \n",
    "* Rembrandt Bakker, Paul Tiesinga, Rolf Kötter (2015) \n",
    " \"The Scalable Brain Atlas: instant web-based access to public brain atlases and related content.\" \n",
    "Neuroinformatics. http://link.springer.com/content/pdf/10.1007/s12021-014-9258-x (author copy: arXiv:1312.6310)\n",
    "\n",
    "## VSNetal11 rat atlas\n",
    "* Valdés-Hernández PA, Sumiyoshi A, Nonaka H, Haga R, Aubert-Vásquez E, Ogawa T, Iturria-Medina Y, Riera JJ, Kawashima R (2011) \"An in vivo MRI template set for morphometry, tissue segmentation, and fMRI localization in rats\" Front Neuroinform 5(26). [doi 10.3389/fninf.2011.00026]\n",
    " \n",
    "* Rembrandt Bakker, Paul Tiesinga, Rolf Kötter (2015) \n",
    " \"The Scalable Brain Atlas: instant web-based access to public brain atlases and related content.\" \n",
    "Neuroinformatics. http://link.springer.com/content/pdf/10.1007/s12021-014-9258-x (author copy: arXiv:1312.6310)\n",
    " \n"
   ]
  },
  {
   "cell_type": "markdown",
   "metadata": {
    "deletable": true,
    "editable": true
   },
   "source": [
    "# License\n",
    "The code in this notebook (and only the code) is shared with the BSD 3-clause license\n",
    "```\n",
    "BSD 3-Clause License\n",
    "\n",
    "Copyright (c) 2018, ProteusMRIgHIFU\n",
    "All rights reserved.\n",
    "\n",
    "Redistribution and use in source and binary forms, with or without\n",
    "modification, are permitted provided that the following conditions are met:\n",
    "\n",
    "* Redistributions of source code must retain the above copyright notice, this\n",
    "  list of conditions and the following disclaimer.\n",
    "\n",
    "* Redistributions in binary form must reproduce the above copyright notice,\n",
    "  this list of conditions and the following disclaimer in the documentation\n",
    "  and/or other materials provided with the distribution.\n",
    "\n",
    "* Neither the name of the copyright holder nor the names of its\n",
    "  contributors may be used to endorse or promote products derived from\n",
    "  this software without specific prior written permission.\n",
    "\n",
    "THIS SOFTWARE IS PROVIDED BY THE COPYRIGHT HOLDERS AND CONTRIBUTORS \"AS IS\"\n",
    "AND ANY EXPRESS OR IMPLIED WARRANTIES, INCLUDING, BUT NOT LIMITED TO, THE\n",
    "IMPLIED WARRANTIES OF MERCHANTABILITY AND FITNESS FOR A PARTICULAR PURPOSE ARE\n",
    "DISCLAIMED. IN NO EVENT SHALL THE COPYRIGHT HOLDER OR CONTRIBUTORS BE LIABLE\n",
    "FOR ANY DIRECT, INDIRECT, INCIDENTAL, SPECIAL, EXEMPLARY, OR CONSEQUENTIAL\n",
    "DAMAGES (INCLUDING, BUT NOT LIMITED TO, PROCUREMENT OF SUBSTITUTE GOODS OR\n",
    "SERVICES; LOSS OF USE, DATA, OR PROFITS; OR BUSINESS INTERRUPTION) HOWEVER\n",
    "CAUSED AND ON ANY THEORY OF LIABILITY, WHETHER IN CONTRACT, STRICT LIABILITY,\n",
    "OR TORT (INCLUDING NEGLIGENCE OR OTHERWISE) ARISING IN ANY WAY OUT OF THE USE\n",
    "OF THIS SOFTWARE, EVEN IF ADVISED OF THE POSSIBILITY OF SUCH DAMAGE.\n",
    "\n",
    "```"
   ]
  },
  {
   "cell_type": "code",
   "execution_count": 1,
   "metadata": {
    "collapsed": true,
    "deletable": true,
    "editable": true
   },
   "outputs": [],
   "source": [
    "import nibabel\n",
    "import numpy as np"
   ]
  },
  {
   "cell_type": "code",
   "execution_count": 27,
   "metadata": {
    "collapsed": false,
    "deletable": true,
    "editable": true,
    "scrolled": false
   },
   "outputs": [
    {
     "name": "stdout",
     "output_type": "stream",
     "text": [
      "size in mm [ 11.4   8.   13.2]\n",
      "coordinates of origing for SVG \n",
      "[[-5.69999981]\n",
      " [-0.04500017]\n",
      " [-7.97499981]\n",
      " [ 1.        ]]\n",
      "[[ 0.025       0.          0.         -5.69999981]\n",
      " [ 0.         -0.025       0.          7.95499995]\n",
      " [ 0.          0.          0.025      -7.97499981]\n",
      " [ 0.          0.          0.          1.        ]]\n"
     ]
    }
   ],
   "source": [
    "a=nibabel.load('../Mouse/P56/P56_Atlas.nii.gz')\n",
    "\n",
    "\n",
    "newaffine = a.affine.copy()\n",
    "newaffine[1,3]=a.affine[2,3]\n",
    "newaffine[2,3]=a.affine[1,3]\n",
    "newaffine[1,1]*=-1\n",
    "newaffine[1,3]-=-(10.78) # this makes bregma at the edge of the 3D array\n",
    "newaffine[2,3]-=0.15\n",
    "newdata=np.swapaxes(a.get_data(),1,2)\n",
    "img = nibabel.nifti1.Nifti1Image(newdata, newaffine)\n",
    "\n",
    "img.to_filename('../Mouse/P56/P56_Atlas-Stereo.nii.gz')\n",
    "\n",
    "print 'size in mm', np.array(img.shape)*0.025\n",
    "print 'coordinates of origing for SVG \\n', np.dot(img.affine,np.array([[0],[newdata.shape[1]],[0],[1]]))\n",
    "print newaffine"
   ]
  },
  {
   "cell_type": "code",
   "execution_count": 28,
   "metadata": {
    "collapsed": false,
    "deletable": true,
    "editable": true
   },
   "outputs": [
    {
     "name": "stdout",
     "output_type": "stream",
     "text": [
      "size in mm [ 17.    12.75  22.5 ]\n",
      "coordinates of origing for SVG \n",
      "[[ -8.29278259]\n",
      " [ -1.1278421 ]\n",
      " [-15.66135254]\n",
      " [  0.786     ]]\n",
      "[[  0.125        0.           0.          -8.29278259]\n",
      " [  0.          -0.125        0.          11.6221579 ]\n",
      " [  0.           0.           0.125      -15.66135254]\n",
      " [  0.           0.           0.           0.786     ]]\n"
     ]
    }
   ],
   "source": [
    "a=nibabel.load('../Rat/VSNetal11/brain-nmdrat30_ras.nii.gz')\n",
    "newAffine=a.affine.copy()\n",
    "\n",
    "\n",
    "newAffine[1,3]=a.affine[2,3]\n",
    "newAffine[2,3]=a.affine[1,3]\n",
    "newAffine[0:3,:]/=10.\n",
    "newAffine[1,1]*=-1\n",
    "newAffine[1,3]-=-(16.19)\n",
    "newAffine[3,3]-=0.214\n",
    "newdata=np.swapaxes(a.get_data(),1,2)\n",
    "\n",
    "img = nibabel.nifti1.Nifti1Image(newdata, newAffine)\n",
    "\n",
    "img.to_filename('../Rat/VSNetal11/brain-nmdrat30_ras_stereo.nii.gz')\n",
    "\n",
    "a=img\n",
    "\n",
    "print 'size in mm',  np.array(a.shape)*0.125\n",
    "\n",
    "print 'coordinates of origing for SVG \\n', np.dot(a.affine,np.array([[0],[a.shape[1]],[0],[1]]))\n",
    "print newAffine"
   ]
  },
  {
   "cell_type": "code",
   "execution_count": 29,
   "metadata": {
    "collapsed": false,
    "deletable": true,
    "editable": true
   },
   "outputs": [
    {
     "name": "stdout",
     "output_type": "stream",
     "text": [
      "size in mm [ 20.  20.  40.]\n",
      "coordinates of origing for SVG \n",
      "[[ -9.373125 ]\n",
      " [ -3.0475   ]\n",
      " [-24.3359375]\n",
      " [  1.       ]]\n",
      "[[  0.0390625   0.         -0.         -9.373125 ]\n",
      " [  0.         -0.0390625  -0.         16.9525   ]\n",
      " [  0.          0.          0.0390625 -24.3359375]\n",
      " [  0.          0.          0.          1.       ]]\n"
     ]
    }
   ],
   "source": [
    "a=nibabel.load('../Rat/Walxhom/WHS_SD_rat_atlas_v2.nii.gz')\n",
    "\n",
    "\n",
    "newAffine=a.affine.copy()\n",
    "\n",
    "\n",
    "newAffine[1,3]=a.affine[2,3]\n",
    "newAffine[2,3]=a.affine[1,3]\n",
    "newdata=np.swapaxes(a.get_data(),1,2)\n",
    "newAffine[1,1]*=-1\n",
    "newAffine[0,3]-=1.1718750-1.33\n",
    "newAffine[1,3]-=(-26.64)\n",
    "\n",
    "img = nibabel.nifti1.Nifti1Image(newdata, newAffine)\n",
    "\n",
    "img.to_filename('../Rat/Walxhom/WHS_SD_rat_atlas_v2_stereo.nii.gz')\n",
    "\n",
    "a=img\n",
    "\n",
    "\n",
    "print 'size in mm', np.array(a.shape)*0.0390625\n",
    "\n",
    "print 'coordinates of origing for SVG \\n', np.dot(a.affine,np.array([[0],[a.shape[1]],[0],[1]]))\n",
    "print newAffine"
   ]
  },
  {
   "cell_type": "markdown",
   "metadata": {
    "collapsed": true,
    "deletable": true,
    "editable": true
   },
   "source": [
    "_______\n",
    "Preparation of SVG atlases for stereotactic navigation\n",
    "===\n",
    "\n",
    "We also prepared the label location of the atlases for their display in the SVG viewer. The location of the each label \n",
    "is extracted from the SVG directly and the provided files for the labels are used to generate JSON files that provide the location of each label in the SVG coordinate system. See below example of rendering.\n",
    "\n",
    "<img src=\"./Example.png\" width=\"400\">\n",
    "\n",
    "The source SVG files in the the **Scalable Brain Atlas** project have different canvas size depending on the atlas. for our purposes, we scaled the rat atlases to have a similar canvas size as the mouse atlas. This simplified the atlases were displayed similarly. Otherwise the labels and lines may appear thicker or bigger. We use the tool `rsvg-convert` and the [svgscale script](./svgscale) provided in https://github.com/numixproject/numix-tools/blob/master/numix-tools/svgscale to perform the scaling. For this atlases, we used `svgscale 430` to match the same canvas as the mouse atlas. The `svgscale` script is shared under GNU General Public License v3.0 (https://github.com/numixproject/numix-tools/blob/master/LICENSE) and is shown below:\n"
   ]
  },
  {
   "cell_type": "code",
   "execution_count": 15,
   "metadata": {
    "collapsed": true,
    "deletable": true,
    "editable": true
   },
   "outputs": [],
   "source": [
    "import xml.etree.ElementTree as et\n",
    "import math\n",
    "import csv\n",
    "import json\n",
    "from svgpathtools import svg2paths, wsvg\n",
    "import svgpathtools\n",
    "from glob import glob\n",
    "import numpy as np\n",
    "import os\n",
    "\n",
    "def PrepareAtlasForMorpheus(path,auxpath=None):\n",
    "    with file(path + os.sep + 'rgb2acr.json','r') as f:\n",
    "        rgb2acr = json.load(f)\n",
    "\n",
    "    ListFiles=glob(path + os.sep +'*.svg')\n",
    "    ListFiles.sort()\n",
    "    \n",
    "    if auxpath:\n",
    "        AuxListFiles=glob(auxpath + os.sep +'*.svg')\n",
    "        AuxListFiles.sort()\n",
    "    else:\n",
    "        AuxListFiles=glob(path + os.sep +'*.svg')\n",
    "        AuxListFiles.sort()\n",
    "\n",
    "    NUM_SAMPLES = 100\n",
    "    vertices=np.zeros((NUM_SAMPLES,2))\n",
    "\n",
    "    for fname,auxfile in zip(ListFiles,AuxListFiles):\n",
    "        \n",
    "        filename = fname.split('.svg')[0]\n",
    "\n",
    "        paths, attributes = svg2paths(fname)\n",
    "        auxpaths, auxattributes = svg2paths(auxfile)\n",
    "\n",
    "        ListCenters=[]\n",
    "\n",
    "        for element,attr,auxelement,auxattr in zip(paths,attributes,auxpaths, auxattributes):\n",
    "            rgb=auxattr['fill'][1:]\n",
    "            if rgb  not in rgb2acr:\n",
    "                continue\n",
    "            for i in range(NUM_SAMPLES):\n",
    "                p=element.point(float(i)/(float(NUM_SAMPLES)-1.0))\n",
    "                vertices[i,:]=[np.real(p),np.imag(p)]\n",
    "            entry={'center':vertices.mean(axis=0).tolist(),'acr':rgb2acr[rgb]}\n",
    "            ListCenters.append(entry)\n",
    "        with file(filename+'-acr.json','w') as f:\n",
    "            json.dump(ListCenters,f)\n",
    "    print 'done'\n",
    "    "
   ]
  },
  {
   "cell_type": "code",
   "execution_count": 16,
   "metadata": {
    "collapsed": false,
    "deletable": true,
    "editable": true
   },
   "outputs": [
    {
     "name": "stdout",
     "output_type": "stream",
     "text": [
      "done\n",
      "done\n",
      "done\n"
     ]
    }
   ],
   "source": [
    "path='../Mouse/P56'\n",
    "PrepareAtlasForMorpheus(path)\n",
    "\n",
    "path='../Rat/VSNetal11/'\n",
    "auxpath='../Rat/VSNetal11/OriginalSVG'\n",
    "PrepareAtlasForMorpheus(path,auxpath)\n",
    "\n",
    "path='../Rat/Walxhom/'\n",
    "auxpath='../Rat/Walxhom/OrigSVG'\n",
    "PrepareAtlasForMorpheus(path,auxpath)"
   ]
  },
  {
   "cell_type": "code",
   "execution_count": null,
   "metadata": {
    "collapsed": true,
    "deletable": true,
    "editable": true
   },
   "outputs": [],
   "source": []
  }
 ],
 "metadata": {
  "kernelspec": {
   "display_name": "Python 2",
   "language": "python",
   "name": "python2"
  },
  "language_info": {
   "codemirror_mode": {
    "name": "ipython",
    "version": 2
   },
   "file_extension": ".py",
   "mimetype": "text/x-python",
   "name": "python",
   "nbconvert_exporter": "python",
   "pygments_lexer": "ipython2",
   "version": "2.7.13"
  }
 },
 "nbformat": 4,
 "nbformat_minor": 2
}
